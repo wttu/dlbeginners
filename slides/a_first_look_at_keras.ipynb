{
 "cells": [
  {
   "cell_type": "markdown",
   "metadata": {},
   "source": [
    "本教程大部分内容参考自\n",
    "\n",
    "📌 [deep-learning-with-python-notebooksl](https://github.com/fchollet/deep-learning-with-python-notebooks)"
   ]
  },
  {
   "cell_type": "code",
   "execution_count": 1,
   "metadata": {},
   "outputs": [
    {
     "data": {
      "text/plain": [
       "'2.8.0'"
      ]
     },
     "execution_count": 1,
     "metadata": {},
     "output_type": "execute_result"
    }
   ],
   "source": [
    "import tensorflow\n",
    "tensorflow.__version__"
   ]
  },
  {
   "cell_type": "markdown",
   "metadata": {
    "papermill": {
     "duration": 0.064696,
     "end_time": "2022-02-25T13:41:27.024061",
     "exception": false,
     "start_time": "2022-02-25T13:41:26.959365",
     "status": "completed"
    },
    "tags": []
   },
   "source": [
    "\n",
    "# <b>1 <span style='color:#F1C40F'>|</span> 准备数据</b>\n",
    "<b></b>\n",
    "<div style=\"color:white;display:fill;border-radius:8px;\n",
    "            background-color:#323232;font-size:150%;\n",
    "            font-family:Nexa;letter-spacing:0.5px\">\n",
    "    <p style=\"padding: 8px;color:white;\"><b>准备numpy.ndarray类型的数据</b></p>\n",
    "</div>\n"
   ]
  },
  {
   "cell_type": "markdown",
   "metadata": {
    "papermill": {
     "duration": 0.064696,
     "end_time": "2022-02-25T13:41:27.024061",
     "exception": false,
     "start_time": "2022-02-25T13:41:26.959365",
     "status": "completed"
    },
    "tags": []
   },
   "source": [
    "### 导入内置的Boston housing dataset\n",
    "\n",
    "这个数据提供404个训练样本和102个测试样本. 每个样本被13个特征刻画：\n",
    "\n",
    "- 1. Per capita crime rate.\n",
    "- 2. Proportion of residential land zoned for lots over 25,000 square feet.\n",
    "- 3. Proportion of non-retail business acres per town.\n",
    "- 4. Charles River dummy variable (= 1 if tract bounds river; 0 otherwise).\n",
    "- 5. Nitric oxides concentration (parts per 10 million).\n",
    "- 6. Average number of rooms per dwelling.\n",
    "- 7. Proportion of owner-occupied units built prior to 1940.\n",
    "- 8. Weighted distances to five Boston employment centres.\n",
    "- 9. Index of accessibility to radial highways.\n",
    "- 10. Full-value property-tax rate per $10,000.\n",
    "- 11. Pupil-teacher ratio by town.\n",
    "- 12. 1000 * (Bk - 0.63) ** 2 where Bk is the proportion of Black people by town.\n",
    "- 13. % lower status of the population.\n",
    "\n",
    "标签的涵义：median values of owner-occupied homes, in thousands of dollars:"
   ]
  },
  {
   "cell_type": "code",
   "execution_count": 3,
   "metadata": {
    "scrolled": false
   },
   "outputs": [],
   "source": [
    "from tensorflow.keras.datasets import boston_housing\n",
    "\n",
    "(train_data, train_targets), (test_data, test_targets) =  boston_housing.load_data()"
   ]
  },
  {
   "cell_type": "code",
   "execution_count": 4,
   "metadata": {},
   "outputs": [
    {
     "data": {
      "text/plain": [
       "(numpy.ndarray, (404, 13))"
      ]
     },
     "execution_count": 4,
     "metadata": {},
     "output_type": "execute_result"
    }
   ],
   "source": [
    "type(train_data), train_data.shape"
   ]
  },
  {
   "cell_type": "code",
   "execution_count": 37,
   "metadata": {},
   "outputs": [
    {
     "data": {
      "text/plain": [
       "array([[-0.27224633, -0.48361547, -0.43576161, ...,  1.14850044,\n",
       "         0.44807713,  0.8252202 ],\n",
       "       [-0.40342651,  2.99178419, -1.33391162, ..., -1.71818909,\n",
       "         0.43190599, -1.32920239],\n",
       "       [ 0.1249402 , -0.48361547,  1.0283258 , ...,  0.78447637,\n",
       "         0.22061726, -1.30850006],\n",
       "       ...,\n",
       "       [-0.40202987,  0.99079651, -0.7415148 , ..., -0.71712291,\n",
       "         0.07943894, -0.67776904],\n",
       "       [-0.17292018, -0.48361547,  1.24588095, ..., -1.71818909,\n",
       "        -0.98764362,  0.42083466],\n",
       "       [-0.40422614,  2.04394792, -1.20161456, ..., -1.30866202,\n",
       "         0.23317118, -1.15392266]])"
      ]
     },
     "execution_count": 37,
     "metadata": {},
     "output_type": "execute_result"
    }
   ],
   "source": [
    "train_data"
   ]
  },
  {
   "cell_type": "code",
   "execution_count": 7,
   "metadata": {
    "scrolled": true
   },
   "outputs": [
    {
     "data": {
      "text/plain": [
       "array([15.2, 42.3, 50. , 21.1, 17.7, 18.5, 11.3, 15.6, 15.6, 14.4, 12.1,\n",
       "       17.9, 23.1, 19.9, 15.7,  8.8, 50. , 22.5, 24.1, 27.5, 10.9, 30.8,\n",
       "       32.9, 24. , 18.5, 13.3, 22.9, 34.7, 16.6, 17.5, 22.3, 16.1, 14.9,\n",
       "       23.1, 34.9, 25. , 13.9, 13.1, 20.4, 20. , 15.2, 24.7, 22.2, 16.7,\n",
       "       12.7, 15.6, 18.4, 21. , 30.1, 15.1, 18.7,  9.6, 31.5, 24.8, 19.1,\n",
       "       22. , 14.5, 11. , 32. , 29.4, 20.3, 24.4, 14.6, 19.5, 14.1, 14.3,\n",
       "       15.6, 10.5,  6.3, 19.3, 19.3, 13.4, 36.4, 17.8, 13.5, 16.5,  8.3,\n",
       "       14.3, 16. , 13.4, 28.6, 43.5, 20.2, 22. , 23. , 20.7, 12.5, 48.5,\n",
       "       14.6, 13.4, 23.7, 50. , 21.7, 39.8, 38.7, 22.2, 34.9, 22.5, 31.1,\n",
       "       28.7, 46. , 41.7, 21. , 26.6, 15. , 24.4, 13.3, 21.2, 11.7, 21.7,\n",
       "       19.4, 50. , 22.8, 19.7, 24.7, 36.2, 14.2, 18.9, 18.3, 20.6, 24.6,\n",
       "       18.2,  8.7, 44. , 10.4, 13.2, 21.2, 37. , 30.7, 22.9, 20. , 19.3,\n",
       "       31.7, 32. , 23.1, 18.8, 10.9, 50. , 19.6,  5. , 14.4, 19.8, 13.8,\n",
       "       19.6, 23.9, 24.5, 25. , 19.9, 17.2, 24.6, 13.5, 26.6, 21.4, 11.9,\n",
       "       22.6, 19.6,  8.5, 23.7, 23.1, 22.4, 20.5, 23.6, 18.4, 35.2, 23.1,\n",
       "       27.9, 20.6, 23.7, 28. , 13.6, 27.1, 23.6, 20.6, 18.2, 21.7, 17.1,\n",
       "        8.4, 25.3, 13.8, 22.2, 18.4, 20.7, 31.6, 30.5, 20.3,  8.8, 19.2,\n",
       "       19.4, 23.1, 23. , 14.8, 48.8, 22.6, 33.4, 21.1, 13.6, 32.2, 13.1,\n",
       "       23.4, 18.9, 23.9, 11.8, 23.3, 22.8, 19.6, 16.7, 13.4, 22.2, 20.4,\n",
       "       21.8, 26.4, 14.9, 24.1, 23.8, 12.3, 29.1, 21. , 19.5, 23.3, 23.8,\n",
       "       17.8, 11.5, 21.7, 19.9, 25. , 33.4, 28.5, 21.4, 24.3, 27.5, 33.1,\n",
       "       16.2, 23.3, 48.3, 22.9, 22.8, 13.1, 12.7, 22.6, 15. , 15.3, 10.5,\n",
       "       24. , 18.5, 21.7, 19.5, 33.2, 23.2,  5. , 19.1, 12.7, 22.3, 10.2,\n",
       "       13.9, 16.3, 17. , 20.1, 29.9, 17.2, 37.3, 45.4, 17.8, 23.2, 29. ,\n",
       "       22. , 18. , 17.4, 34.6, 20.1, 25. , 15.6, 24.8, 28.2, 21.2, 21.4,\n",
       "       23.8, 31. , 26.2, 17.4, 37.9, 17.5, 20. ,  8.3, 23.9,  8.4, 13.8,\n",
       "        7.2, 11.7, 17.1, 21.6, 50. , 16.1, 20.4, 20.6, 21.4, 20.6, 36.5,\n",
       "        8.5, 24.8, 10.8, 21.9, 17.3, 18.9, 36.2, 14.9, 18.2, 33.3, 21.8,\n",
       "       19.7, 31.6, 24.8, 19.4, 22.8,  7.5, 44.8, 16.8, 18.7, 50. , 50. ,\n",
       "       19.5, 20.1, 50. , 17.2, 20.8, 19.3, 41.3, 20.4, 20.5, 13.8, 16.5,\n",
       "       23.9, 20.6, 31.5, 23.3, 16.8, 14. , 33.8, 36.1, 12.8, 18.3, 18.7,\n",
       "       19.1, 29. , 30.1, 50. , 50. , 22. , 11.9, 37.6, 50. , 22.7, 20.8,\n",
       "       23.5, 27.9, 50. , 19.3, 23.9, 22.6, 15.2, 21.7, 19.2, 43.8, 20.3,\n",
       "       33.2, 19.9, 22.5, 32.7, 22. , 17.1, 19. , 15. , 16.1, 25.1, 23.7,\n",
       "       28.7, 37.2, 22.6, 16.4, 25. , 29.8, 22.1, 17.4, 18.1, 30.3, 17.5,\n",
       "       24.7, 12.6, 26.5, 28.7, 13.3, 10.4, 24.4, 23. , 20. , 17.8,  7. ,\n",
       "       11.8, 24.4, 13.8, 19.4, 25.2, 19.4, 19.4, 29.1])"
      ]
     },
     "execution_count": 7,
     "metadata": {},
     "output_type": "execute_result"
    }
   ],
   "source": [
    "train_targets"
   ]
  },
  {
   "cell_type": "markdown",
   "metadata": {
    "papermill": {
     "duration": 0.064696,
     "end_time": "2022-02-25T13:41:27.024061",
     "exception": false,
     "start_time": "2022-02-25T13:41:26.959365",
     "status": "completed"
    },
    "tags": []
   },
   "source": [
    "<div style=\"color:white;display:fill;border-radius:8px;\n",
    "            background-color:#323232;font-size:150%;\n",
    "            font-family:Nexa;letter-spacing:0.5px\">\n",
    "    <p style=\"padding: 8px;color:white;\"><b>对数据进行预处理</b></p>\n",
    "</div>"
   ]
  },
  {
   "cell_type": "code",
   "execution_count": 6,
   "metadata": {
    "scrolled": true
   },
   "outputs": [],
   "source": [
    "mean = train_data.mean(axis=0)\n",
    "train_data -= mean\n",
    "std = train_data.std(axis=0)\n",
    "train_data /= std\n",
    "\n",
    "test_data -= mean\n",
    "test_data /= std\n"
   ]
  },
  {
   "cell_type": "markdown",
   "metadata": {
    "papermill": {
     "duration": 0.064696,
     "end_time": "2022-02-25T13:41:27.024061",
     "exception": false,
     "start_time": "2022-02-25T13:41:26.959365",
     "status": "completed"
    },
    "tags": []
   },
   "source": [
    "\n",
    "# <b>2 <span style='color:#F1C40F'>|</span> 网络的设定</b>\n",
    "<b></b>\n",
    "<div style=\"color:white;display:fill;border-radius:8px;\n",
    "            background-color:#323232;font-size:150%;\n",
    "            font-family:Nexa;letter-spacing:0.5px\">\n",
    "    <p style=\"padding: 8px;color:white;\"><b>调用tensorflow.keras.models定义网络类型</b></p>\n",
    "</div>\n",
    "<div style=\"color:white;display:fill;border-radius:8px;\n",
    "            background-color:#323232;font-size:150%;\n",
    "            font-family:Nexa;letter-spacing:0.5px\">\n",
    "    <p style=\"padding: 8px;color:white;\"><b>调用tensorflow.keras.layers定义网络层</b></p>\n",
    "</div>"
   ]
  },
  {
   "cell_type": "code",
   "execution_count": 7,
   "metadata": {},
   "outputs": [],
   "source": [
    "from tensorflow.keras import models\n",
    "from tensorflow.keras import layers\n",
    "model = models.Sequential()\n",
    "model.add(layers.Dense(64, activation='relu',\n",
    "                       input_shape=(train_data.shape[1],)))\n",
    "model.add(layers.Dense(64, activation='relu'))\n",
    "model.add(layers.Dense(1))\n"
   ]
  },
  {
   "cell_type": "markdown",
   "metadata": {
    "papermill": {
     "duration": 0.064696,
     "end_time": "2022-02-25T13:41:27.024061",
     "exception": false,
     "start_time": "2022-02-25T13:41:26.959365",
     "status": "completed"
    },
    "tags": []
   },
   "source": [
    "<div style=\"color:white;display:fill;border-radius:8px;\n",
    "            background-color:#323232;font-size:150%;\n",
    "            font-family:Nexa;letter-spacing:0.5px\">\n",
    "    <p style=\"padding: 8px;color:white;\"><b>利用compile方法设定学习细节</b></p>\n",
    "</div>"
   ]
  },
  {
   "cell_type": "code",
   "execution_count": 8,
   "metadata": {},
   "outputs": [],
   "source": [
    "model.compile(optimizer='rmsprop', loss='mse', metrics=['mae'])\n"
   ]
  },
  {
   "cell_type": "markdown",
   "metadata": {
    "papermill": {
     "duration": 0.064696,
     "end_time": "2022-02-25T13:41:27.024061",
     "exception": false,
     "start_time": "2022-02-25T13:41:26.959365",
     "status": "completed"
    },
    "tags": []
   },
   "source": [
    "<div style=\"color:white;display:fill;border-radius:8px;\n",
    "            background-color:#323232;font-size:150%;\n",
    "            font-family:Nexa;letter-spacing:0.5px\">\n",
    "    <p style=\"padding: 8px;color:white;\"><b>利用summary查看网络</b></p>\n",
    "</div>"
   ]
  },
  {
   "cell_type": "code",
   "execution_count": 9,
   "metadata": {
    "scrolled": false
   },
   "outputs": [
    {
     "name": "stdout",
     "output_type": "stream",
     "text": [
      "Model: \"sequential\"\n",
      "_________________________________________________________________\n",
      " Layer (type)                Output Shape              Param #   \n",
      "=================================================================\n",
      " dense (Dense)               (None, 64)                896       \n",
      "                                                                 \n",
      " dense_1 (Dense)             (None, 64)                4160      \n",
      "                                                                 \n",
      " dense_2 (Dense)             (None, 1)                 65        \n",
      "                                                                 \n",
      "=================================================================\n",
      "Total params: 5,121\n",
      "Trainable params: 5,121\n",
      "Non-trainable params: 0\n",
      "_________________________________________________________________\n"
     ]
    }
   ],
   "source": [
    "model.summary()"
   ]
  },
  {
   "cell_type": "markdown",
   "metadata": {
    "papermill": {
     "duration": 0.064696,
     "end_time": "2022-02-25T13:41:27.024061",
     "exception": false,
     "start_time": "2022-02-25T13:41:26.959365",
     "status": "completed"
    },
    "tags": []
   },
   "source": [
    "# <b>3 <span style='color:#F1C40F'>|</span> 网络的学习，使用，存储等</b>\n",
    "<b></b>\n",
    "<div style=\"color:white;display:fill;border-radius:8px;\n",
    "            background-color:#323232;font-size:150%;\n",
    "            font-family:Nexa;letter-spacing:0.5px\">\n",
    "    <p style=\"padding: 8px;color:white;\"><b>利用fit函数学习网络</b></p>\n",
    "</div>\n",
    "\n",
    "其中参数verbose控制日志显示的方式：\n",
    "\n",
    "- verbose = 0 为不在标准输出流输出日志信息\n",
    "\n",
    "- verbose = 1 为输出进度条记录\n",
    "\n",
    "- verbose = 2 为每个epoch输出一行记录"
   ]
  },
  {
   "cell_type": "code",
   "execution_count": 10,
   "metadata": {
    "scrolled": true
   },
   "outputs": [
    {
     "name": "stdout",
     "output_type": "stream",
     "text": [
      "Epoch 1/80\n",
      "26/26 [==============================] - 1s 1ms/step - loss: 471.5072 - mae: 19.6347\n",
      "Epoch 2/80\n",
      "26/26 [==============================] - 0s 1ms/step - loss: 292.8292 - mae: 14.5650\n",
      "Epoch 3/80\n",
      "26/26 [==============================] - 0s 997us/step - loss: 131.1487 - mae: 8.9504\n",
      "Epoch 4/80\n",
      "26/26 [==============================] - 0s 1ms/step - loss: 54.9915 - mae: 5.3494\n",
      "Epoch 5/80\n",
      "26/26 [==============================] - 0s 2ms/step - loss: 35.6886 - mae: 4.2751\n",
      "Epoch 6/80\n",
      "26/26 [==============================] - 0s 1ms/step - loss: 28.3350 - mae: 3.7442\n",
      "Epoch 7/80\n",
      "26/26 [==============================] - 0s 1ms/step - loss: 23.9568 - mae: 3.4074\n",
      "Epoch 8/80\n",
      "26/26 [==============================] - 0s 1ms/step - loss: 21.3755 - mae: 3.1627\n",
      "Epoch 9/80\n",
      "26/26 [==============================] - 0s 933us/step - loss: 19.5350 - mae: 3.0375\n",
      "Epoch 10/80\n",
      "26/26 [==============================] - 0s 959us/step - loss: 17.8063 - mae: 2.8909\n",
      "Epoch 11/80\n",
      "26/26 [==============================] - 0s 1ms/step - loss: 15.9344 - mae: 2.7013\n",
      "Epoch 12/80\n",
      "26/26 [==============================] - 0s 1ms/step - loss: 14.8260 - mae: 2.6643\n",
      "Epoch 13/80\n",
      "26/26 [==============================] - 0s 1ms/step - loss: 13.9397 - mae: 2.5410\n",
      "Epoch 14/80\n",
      "26/26 [==============================] - 0s 2ms/step - loss: 12.7660 - mae: 2.4643\n",
      "Epoch 15/80\n",
      "26/26 [==============================] - 0s 1ms/step - loss: 12.1555 - mae: 2.4615\n",
      "Epoch 16/80\n",
      "26/26 [==============================] - 0s 1ms/step - loss: 12.0574 - mae: 2.4041\n",
      "Epoch 17/80\n",
      "26/26 [==============================] - 0s 1ms/step - loss: 11.2762 - mae: 2.3203\n",
      "Epoch 18/80\n",
      "26/26 [==============================] - 0s 918us/step - loss: 11.2152 - mae: 2.3219\n",
      "Epoch 19/80\n",
      "26/26 [==============================] - 0s 1ms/step - loss: 10.7798 - mae: 2.2712\n",
      "Epoch 20/80\n",
      "26/26 [==============================] - 0s 1ms/step - loss: 10.3576 - mae: 2.2544\n",
      "Epoch 21/80\n",
      "26/26 [==============================] - 0s 918us/step - loss: 10.4342 - mae: 2.2634\n",
      "Epoch 22/80\n",
      "26/26 [==============================] - 0s 1ms/step - loss: 10.2636 - mae: 2.2498\n",
      "Epoch 23/80\n",
      "26/26 [==============================] - 0s 1ms/step - loss: 9.7130 - mae: 2.2001\n",
      "Epoch 24/80\n",
      "26/26 [==============================] - 0s 997us/step - loss: 9.7728 - mae: 2.2111\n",
      "Epoch 25/80\n",
      "26/26 [==============================] - 0s 1ms/step - loss: 9.4998 - mae: 2.1891\n",
      "Epoch 26/80\n",
      "26/26 [==============================] - 0s 1ms/step - loss: 9.4091 - mae: 2.1511\n",
      "Epoch 27/80\n",
      "26/26 [==============================] - 0s 967us/step - loss: 9.4123 - mae: 2.1357\n",
      "Epoch 28/80\n",
      "26/26 [==============================] - 0s 1ms/step - loss: 9.3932 - mae: 2.1312\n",
      "Epoch 29/80\n",
      "26/26 [==============================] - 0s 1ms/step - loss: 8.9065 - mae: 2.1004\n",
      "Epoch 30/80\n",
      "26/26 [==============================] - 0s 954us/step - loss: 9.0694 - mae: 2.0960\n",
      "Epoch 31/80\n",
      "26/26 [==============================] - 0s 958us/step - loss: 8.7204 - mae: 2.0552\n",
      "Epoch 32/80\n",
      "26/26 [==============================] - 0s 1ms/step - loss: 8.9097 - mae: 2.1149\n",
      "Epoch 33/80\n",
      "26/26 [==============================] - 0s 1ms/step - loss: 8.6654 - mae: 2.0676\n",
      "Epoch 34/80\n",
      "26/26 [==============================] - 0s 958us/step - loss: 8.7426 - mae: 2.0569\n",
      "Epoch 35/80\n",
      "26/26 [==============================] - 0s 1ms/step - loss: 8.4592 - mae: 2.0102\n",
      "Epoch 36/80\n",
      "26/26 [==============================] - 0s 1ms/step - loss: 8.4548 - mae: 2.0362\n",
      "Epoch 37/80\n",
      "26/26 [==============================] - 0s 878us/step - loss: 8.2130 - mae: 2.0132\n",
      "Epoch 38/80\n",
      "26/26 [==============================] - 0s 839us/step - loss: 8.3643 - mae: 2.0019\n",
      "Epoch 39/80\n",
      "26/26 [==============================] - 0s 997us/step - loss: 8.1571 - mae: 1.9822\n",
      "Epoch 40/80\n",
      "26/26 [==============================] - 0s 918us/step - loss: 8.0861 - mae: 1.9602\n",
      "Epoch 41/80\n",
      "26/26 [==============================] - 0s 957us/step - loss: 8.0901 - mae: 1.9992\n",
      "Epoch 42/80\n",
      "26/26 [==============================] - 0s 1ms/step - loss: 7.9889 - mae: 1.9594\n",
      "Epoch 43/80\n",
      "26/26 [==============================] - 0s 1ms/step - loss: 8.0469 - mae: 1.9978\n",
      "Epoch 44/80\n",
      "26/26 [==============================] - 0s 918us/step - loss: 7.8054 - mae: 1.9638\n",
      "Epoch 45/80\n",
      "26/26 [==============================] - 0s 1ms/step - loss: 7.6243 - mae: 1.9465\n",
      "Epoch 46/80\n",
      "26/26 [==============================] - 0s 1ms/step - loss: 7.7731 - mae: 1.9643\n",
      "Epoch 47/80\n",
      "26/26 [==============================] - 0s 997us/step - loss: 7.5319 - mae: 1.8989\n",
      "Epoch 48/80\n",
      "26/26 [==============================] - 0s 1ms/step - loss: 7.4336 - mae: 1.8972\n",
      "Epoch 49/80\n",
      "26/26 [==============================] - 0s 2ms/step - loss: 7.3992 - mae: 1.9108\n",
      "Epoch 50/80\n",
      "26/26 [==============================] - 0s 878us/step - loss: 7.4634 - mae: 1.8704\n",
      "Epoch 51/80\n",
      "26/26 [==============================] - 0s 958us/step - loss: 7.2868 - mae: 1.9181\n",
      "Epoch 52/80\n",
      "26/26 [==============================] - 0s 1ms/step - loss: 7.3771 - mae: 1.8918\n",
      "Epoch 53/80\n",
      "26/26 [==============================] - 0s 919us/step - loss: 7.3258 - mae: 1.8888\n",
      "Epoch 54/80\n",
      "26/26 [==============================] - 0s 918us/step - loss: 7.2820 - mae: 1.9056\n",
      "Epoch 55/80\n",
      "26/26 [==============================] - 0s 1ms/step - loss: 7.0578 - mae: 1.8367\n",
      "Epoch 56/80\n",
      "26/26 [==============================] - 0s 1ms/step - loss: 6.9992 - mae: 1.8692\n",
      "Epoch 57/80\n",
      "26/26 [==============================] - 0s 917us/step - loss: 7.0392 - mae: 1.8537\n",
      "Epoch 58/80\n",
      "26/26 [==============================] - 0s 1ms/step - loss: 7.1054 - mae: 1.8872\n",
      "Epoch 59/80\n",
      "26/26 [==============================] - 0s 1ms/step - loss: 6.9277 - mae: 1.8142\n",
      "Epoch 60/80\n",
      "26/26 [==============================] - 0s 1ms/step - loss: 6.7697 - mae: 1.8017\n",
      "Epoch 61/80\n",
      "26/26 [==============================] - 0s 997us/step - loss: 6.5980 - mae: 1.7917\n",
      "Epoch 62/80\n",
      "26/26 [==============================] - 0s 1ms/step - loss: 6.7381 - mae: 1.7990\n",
      "Epoch 63/80\n",
      "26/26 [==============================] - 0s 957us/step - loss: 6.6539 - mae: 1.7948\n",
      "Epoch 64/80\n",
      "26/26 [==============================] - 0s 997us/step - loss: 6.6841 - mae: 1.8129\n",
      "Epoch 65/80\n",
      "26/26 [==============================] - 0s 1ms/step - loss: 6.5853 - mae: 1.7789\n",
      "Epoch 66/80\n",
      "26/26 [==============================] - 0s 927us/step - loss: 6.4941 - mae: 1.8084\n",
      "Epoch 67/80\n",
      "26/26 [==============================] - 0s 996us/step - loss: 6.6913 - mae: 1.8066\n",
      "Epoch 68/80\n",
      "26/26 [==============================] - 0s 918us/step - loss: 6.5184 - mae: 1.8020\n",
      "Epoch 69/80\n",
      "26/26 [==============================] - 0s 1ms/step - loss: 6.2514 - mae: 1.7852\n",
      "Epoch 70/80\n",
      "26/26 [==============================] - 0s 918us/step - loss: 6.6982 - mae: 1.8117\n",
      "Epoch 71/80\n",
      "26/26 [==============================] - 0s 917us/step - loss: 6.3410 - mae: 1.7576\n",
      "Epoch 72/80\n",
      "26/26 [==============================] - 0s 1ms/step - loss: 6.3453 - mae: 1.7926\n",
      "Epoch 73/80\n",
      "26/26 [==============================] - 0s 878us/step - loss: 6.2629 - mae: 1.7409\n",
      "Epoch 74/80\n",
      "26/26 [==============================] - 0s 919us/step - loss: 6.3106 - mae: 1.7613\n",
      "Epoch 75/80\n",
      "26/26 [==============================] - 0s 1ms/step - loss: 6.1787 - mae: 1.7556\n",
      "Epoch 76/80\n",
      "26/26 [==============================] - 0s 1ms/step - loss: 6.1786 - mae: 1.7211\n",
      "Epoch 77/80\n",
      "26/26 [==============================] - 0s 997us/step - loss: 6.0436 - mae: 1.7171\n",
      "Epoch 78/80\n",
      "26/26 [==============================] - 0s 1ms/step - loss: 6.1045 - mae: 1.7113\n",
      "Epoch 79/80\n",
      "26/26 [==============================] - 0s 1ms/step - loss: 5.9745 - mae: 1.6964\n",
      "Epoch 80/80\n",
      "26/26 [==============================] - 0s 1ms/step - loss: 5.8876 - mae: 1.6538\n"
     ]
    },
    {
     "data": {
      "text/plain": [
       "<keras.callbacks.History at 0x20e3ae93948>"
      ]
     },
     "execution_count": 10,
     "metadata": {},
     "output_type": "execute_result"
    }
   ],
   "source": [
    "model.fit(train_data, train_targets, epochs=80, batch_size=16, verbose=1)"
   ]
  },
  {
   "cell_type": "markdown",
   "metadata": {
    "papermill": {
     "duration": 0.064696,
     "end_time": "2022-02-25T13:41:27.024061",
     "exception": false,
     "start_time": "2022-02-25T13:41:26.959365",
     "status": "completed"
    },
    "tags": []
   },
   "source": [
    "<div style=\"color:white;display:fill;border-radius:8px;\n",
    "            background-color:#323232;font-size:150%;\n",
    "            font-family:Nexa;letter-spacing:0.5px\">\n",
    "    <p style=\"padding: 8px;color:white;\"><b>利用predict函数获得预测或利用evaluate函数进行模型评估</b></p>\n",
    "</div>\n"
   ]
  },
  {
   "cell_type": "code",
   "execution_count": 12,
   "metadata": {},
   "outputs": [
    {
     "data": {
      "text/plain": [
       "array([[ 7.8969502],\n",
       "       [19.283857 ],\n",
       "       [21.977648 ],\n",
       "       [31.459055 ],\n",
       "       [25.159746 ],\n",
       "       [21.44304  ],\n",
       "       [25.948652 ],\n",
       "       [21.687681 ],\n",
       "       [19.345346 ],\n",
       "       [22.11231  ],\n",
       "       [18.026438 ],\n",
       "       [16.792923 ],\n",
       "       [15.982572 ],\n",
       "       [41.8082   ],\n",
       "       [19.51135  ],\n",
       "       [20.465292 ],\n",
       "       [25.815832 ],\n",
       "       [18.721766 ],\n",
       "       [18.909176 ],\n",
       "       [27.554667 ],\n",
       "       [11.2418585],\n",
       "       [15.597343 ],\n",
       "       [21.866121 ],\n",
       "       [15.2266445],\n",
       "       [19.851734 ],\n",
       "       [24.8961   ],\n",
       "       [29.052464 ],\n",
       "       [29.254467 ],\n",
       "       [11.189183 ],\n",
       "       [20.180914 ],\n",
       "       [19.788334 ],\n",
       "       [15.538543 ],\n",
       "       [34.27071  ],\n",
       "       [24.394644 ],\n",
       "       [18.290651 ],\n",
       "       [ 8.429926 ],\n",
       "       [17.254904 ],\n",
       "       [17.69568  ],\n",
       "       [19.708368 ],\n",
       "       [25.134775 ],\n",
       "       [29.228518 ],\n",
       "       [27.705095 ],\n",
       "       [13.965707 ],\n",
       "       [42.502842 ],\n",
       "       [28.914915 ],\n",
       "       [25.085283 ],\n",
       "       [27.03693  ],\n",
       "       [17.680323 ],\n",
       "       [23.160976 ],\n",
       "       [22.174177 ],\n",
       "       [33.569317 ],\n",
       "       [20.152464 ],\n",
       "       [11.585548 ],\n",
       "       [15.158796 ],\n",
       "       [34.820156 ],\n",
       "       [28.276285 ],\n",
       "       [12.262444 ],\n",
       "       [47.259052 ],\n",
       "       [35.494923 ],\n",
       "       [22.546011 ],\n",
       "       [24.394949 ],\n",
       "       [16.559603 ],\n",
       "       [15.4688   ],\n",
       "       [19.388968 ],\n",
       "       [23.691505 ],\n",
       "       [21.294203 ],\n",
       "       [13.107537 ],\n",
       "       [21.576357 ],\n",
       "       [11.604006 ],\n",
       "       [ 6.7222624],\n",
       "       [26.664923 ],\n",
       "       [29.200304 ],\n",
       "       [25.962523 ],\n",
       "       [12.317146 ],\n",
       "       [24.760725 ],\n",
       "       [17.9511   ],\n",
       "       [19.311272 ],\n",
       "       [23.13521  ],\n",
       "       [35.28863  ],\n",
       "       [10.95705  ],\n",
       "       [21.665758 ],\n",
       "       [37.089344 ],\n",
       "       [15.4251375],\n",
       "       [13.1754   ],\n",
       "       [17.224112 ],\n",
       "       [18.007055 ],\n",
       "       [21.774033 ],\n",
       "       [21.386292 ],\n",
       "       [21.16371  ],\n",
       "       [31.439732 ],\n",
       "       [19.870544 ],\n",
       "       [19.842165 ],\n",
       "       [24.713766 ],\n",
       "       [40.826725 ],\n",
       "       [35.606686 ],\n",
       "       [21.598623 ],\n",
       "       [34.47193  ],\n",
       "       [51.35364  ],\n",
       "       [25.594385 ],\n",
       "       [45.903866 ],\n",
       "       [30.619753 ],\n",
       "       [19.765882 ]], dtype=float32)"
      ]
     },
     "execution_count": 12,
     "metadata": {},
     "output_type": "execute_result"
    }
   ],
   "source": [
    "predictions = model.predict(test_data)\n",
    "predictions"
   ]
  },
  {
   "cell_type": "code",
   "execution_count": 13,
   "metadata": {},
   "outputs": [
    {
     "data": {
      "text/plain": [
       "2.691445827484131"
      ]
     },
     "execution_count": 13,
     "metadata": {},
     "output_type": "execute_result"
    }
   ],
   "source": [
    "test_mse_score, test_mae_score = model.evaluate(test_data, test_targets, verbose = 0)\n",
    "test_mae_score"
   ]
  },
  {
   "cell_type": "markdown",
   "metadata": {
    "papermill": {
     "duration": 0.064696,
     "end_time": "2022-02-25T13:41:27.024061",
     "exception": false,
     "start_time": "2022-02-25T13:41:26.959365",
     "status": "completed"
    },
    "tags": []
   },
   "source": [
    "<div style=\"color:white;display:fill;border-radius:8px;\n",
    "            background-color:#323232;font-size:150%;\n",
    "            font-family:Nexa;letter-spacing:0.5px\">\n",
    "    <p style=\"padding: 8px;color:white;\"><b>利用tensorflow.keras.models来获得单独每一层的输出</b></p>\n",
    "</div>\n"
   ]
  },
  {
   "cell_type": "code",
   "execution_count": 14,
   "metadata": {},
   "outputs": [
    {
     "data": {
      "text/plain": [
       "array([[1.1697562, 1.4366028, 0.6576094, ..., 1.3842618, 2.3077302,\n",
       "        0.       ],\n",
       "       [2.125175 , 1.86264  , 2.0705428, ..., 2.0486794, 2.0261357,\n",
       "        0.2121315],\n",
       "       [2.8507903, 1.8717936, 2.8531046, ..., 2.2313676, 2.5353532,\n",
       "        0.3428657],\n",
       "       ...,\n",
       "       [5.1441593, 3.7089047, 5.3668675, ..., 6.0201507, 3.7497175,\n",
       "        1.1841226],\n",
       "       [3.2884667, 2.2568932, 3.7434158, ..., 4.4131627, 2.7536535,\n",
       "        0.9499691],\n",
       "       [2.3375585, 1.563706 , 2.5341387, ..., 1.8903722, 1.5981396,\n",
       "        0.       ]], dtype=float32)"
      ]
     },
     "execution_count": 14,
     "metadata": {},
     "output_type": "execute_result"
    }
   ],
   "source": [
    "from tensorflow.keras.models import Model \n",
    "dense1_layer_model = Model(inputs=model.input ,outputs=model.get_layer('dense_1').output) \n",
    "test_feas_dense1 = dense1_layer_model.predict(test_data)\n",
    "test_feas_dense1"
   ]
  },
  {
   "cell_type": "markdown",
   "metadata": {
    "papermill": {
     "duration": 0.064696,
     "end_time": "2022-02-25T13:41:27.024061",
     "exception": false,
     "start_time": "2022-02-25T13:41:26.959365",
     "status": "completed"
    },
    "tags": []
   },
   "source": [
    "<div style=\"color:white;display:fill;border-radius:8px;\n",
    "            background-color:#323232;font-size:150%;\n",
    "            font-family:Nexa;letter-spacing:0.5px\">\n",
    "    <p style=\"padding: 8px;color:white;\"><b>调用save和load_model实现模型的存储与复用</b></p>\n",
    "</div>\n",
    "\n",
    "### 存储为TensorFlow SavedModel 格式\n",
    "\n",
    "调用save命令，我们将看到一个first_model的目录被创建，其中包括：\n",
    "\n",
    "├── assets\n",
    "\n",
    "├── saved_model.pb\n",
    "\n",
    "└── variables\n",
    "\n",
    "    ├── variables.data-00000-of-00001\n",
    "\n",
    "    └── variables.index\n",
    "\n",
    "├── keras_metadata.pb\n",
    "\n",
    "其中 assets 是一个可选的目录，用于存放模型运行所需的辅助文件，比如字典文件等。 variables 目录下存放的是模型权重的检查点文件，模型的所有权重信息均保存在该目录下。 saved_model.pb 文件中包含了模型的结构以及训练的配置信息如优化器，损失以及指标等信息。keras_metadata.pb则实现了能够令模型被成功还原成Keras model。\n",
    "   "
   ]
  },
  {
   "cell_type": "code",
   "execution_count": 16,
   "metadata": {},
   "outputs": [
    {
     "name": "stdout",
     "output_type": "stream",
     "text": [
      "INFO:tensorflow:Assets written to: first_model\\assets\n"
     ]
    }
   ],
   "source": [
    "model.save('first_model')"
   ]
  },
  {
   "cell_type": "code",
   "execution_count": 18,
   "metadata": {},
   "outputs": [],
   "source": [
    "loaded_model = tensorflow.keras.models.load_model(\"first_model\")"
   ]
  },
  {
   "cell_type": "code",
   "execution_count": 19,
   "metadata": {},
   "outputs": [
    {
     "data": {
      "text/plain": [
       "2.691445827484131"
      ]
     },
     "execution_count": 19,
     "metadata": {},
     "output_type": "execute_result"
    }
   ],
   "source": [
    "test_mse_score, test_mae_score = loaded_model.evaluate(test_data, test_targets, verbose = 0)\n",
    "test_mae_score"
   ]
  },
  {
   "cell_type": "markdown",
   "metadata": {},
   "source": [
    "### 存储为Keras H5 格式"
   ]
  },
  {
   "cell_type": "code",
   "execution_count": 20,
   "metadata": {},
   "outputs": [],
   "source": [
    "tensorflow.keras.models.save_model(model, \"first_model.h5\")"
   ]
  },
  {
   "cell_type": "code",
   "execution_count": 21,
   "metadata": {},
   "outputs": [],
   "source": [
    "loaded_model = tensorflow.keras.models.load_model(\"first_model.h5\")"
   ]
  },
  {
   "cell_type": "code",
   "execution_count": 22,
   "metadata": {},
   "outputs": [
    {
     "data": {
      "text/plain": [
       "2.691445827484131"
      ]
     },
     "execution_count": 22,
     "metadata": {},
     "output_type": "execute_result"
    }
   ],
   "source": [
    "test_mse_score, test_mae_score = loaded_model.evaluate(test_data, test_targets, verbose = 0)\n",
    "test_mae_score"
   ]
  },
  {
   "cell_type": "code",
   "execution_count": null,
   "metadata": {},
   "outputs": [],
   "source": []
  }
 ],
 "metadata": {
  "kernelspec": {
   "display_name": "Python 3",
   "language": "python",
   "name": "python3"
  },
  "language_info": {
   "codemirror_mode": {
    "name": "ipython",
    "version": 3
   },
   "file_extension": ".py",
   "mimetype": "text/x-python",
   "name": "python",
   "nbconvert_exporter": "python",
   "pygments_lexer": "ipython3",
   "version": "3.7.6"
  },
  "papermill": {
   "default_parameters": {},
   "duration": 793.63646,
   "end_time": "2022-02-25T13:54:31.204673",
   "environment_variables": {},
   "exception": null,
   "input_path": "__notebook__.ipynb",
   "output_path": "__notebook__.ipynb",
   "parameters": {},
   "start_time": "2022-02-25T13:41:17.568213",
   "version": "2.3.3"
  }
 },
 "nbformat": 4,
 "nbformat_minor": 5
}
